{
  "nbformat": 4,
  "nbformat_minor": 0,
  "metadata": {
    "colab": {
      "name": "hello_world_assignment.ipynb",
      "provenance": [],
      "collapsed_sections": []
    },
    "kernelspec": {
      "name": "python3",
      "display_name": "Python 3"
    }
  },
  "cells": [
    {
      "cell_type": "markdown",
      "metadata": {
        "id": "7Et4sYOiVUAN",
        "colab_type": "text"
      },
      "source": [
        "# PSYC 32 (W20): Introduction to Programming for Psychological Scientists\n",
        "## Assignment 1: Hello, world!\n",
        "\n",
        "This first assignment is intended to help you get set up in the course.  You'll also be writing your first lines of Python code!\n",
        "\n",
        "If you're a student enrolled in PSYC 32 and you haven't already done so, you should use [this link](https://classroom.github.com/a/rw4gMFGJ) to officially accept this assignment.  Like most assignments in this course, all of the files for this assignment are contained in a single GitHub repository (i.e., a collection of files hosted on GitHub's servers).  Assignments are set up using \"template\" repositories.  The idea is that these templates for each assignment will provide a framework for you to work with.  Your job is to follow each assignment's instructions and fill in the missing pieces of code and/or text.\n",
        "\n",
        "When you accept an assignment (e.g., using the GitHub classroom link above) this uses the assignment's template repository to create a personal \"fork\" (copy) of the files.  A message should inform you where this fork is located (i.e., a web address); this will normally be something like `https://github.com/ContextLab/hello-world-<username>`, where \"`<username>`\" is replaced with your actual GitHub username.\n",
        "\n",
        "While it's good to have a general sense of how assignments work in this course, it's not critical that you understand the details of how they are set up.  You just need to be able to view and run the relevant files, and to submit assignments so that you can get credit for your efforts.\n",
        "\n",
        "After accepting the assignment using the above link, you should open the `hello_world_assignment.ipynb` notebook in Google Colaboratory by clicking [this link](https://colab.research.google.com/github/ContextLab/psyc32-hello-world/blob/master/hello_world_assignment.ipynb).\n",
        "\n",
        "**If you've already [accepted this assignment](https://classroom.github.com/a/rw4gMFGJ) and are viewing this file in [Google Colaboratory](https://colab.research.google.com/github/ContextLab/psyc32-hello-world/blob/master/hello_world_assignment.ipynb), please continue on.  If you haven't accepted the assignment, or if you aren't viewing this notebook in Google Colaboratory, please follow the above instructions so that you can carry out this assignment.**\n",
        "\n",
        "### Assignment goals\n",
        "\n",
        "You're going to learn four things in this assignment:\n",
        "\n",
        "1.   How to use Jupyter (Colaboratory) notebooks\n",
        "2.   How to set up your Google Colaboratory and GitHub accounts\n",
        "3.   How to access and submit assignments\n",
        "4.   How to write a (tiny!) Python program and run it\n"
      ]
    },
    {
      "cell_type": "markdown",
      "metadata": {
        "id": "taMUWizwWIY3",
        "colab_type": "text"
      },
      "source": [
        "# Part 1: Jupyter notebooks, Google Colaboratory, and GitHub\n",
        "\n",
        "You should start by going through [this notebook](https://github.com/ContextLab/cs-for-psych/blob/master/slides/module_1/introduction_and_overview.ipynb) to familiarize yourself with Jupyter notebooks and Google Colaboratory (and setting up your Google Colaboratory and GitHub accounts).  Follow the instructions in the notebook to set up your accounts.\n",
        "\n",
        "Change the code in the next cell to indicate that you've gone through the introductory notebook, read about Jupyter/Colaboratory notebooks, set up your Google Colaboratory account, and set up your GitHub account.  You should change each variable from `False` to `True` to show which tasks you have (by self-report) accomplished.  Also update the `github_username` variable to indicate your GitHub username. "
      ]
    },
    {
      "cell_type": "code",
      "metadata": {
        "id": "7ZlQqKauX_Hp",
        "colab_type": "code",
        "colab": {}
      },
      "source": [
        "#I have read through the Introduction and Overview notebook\n",
        "READ_INTRODUCTION = False\n",
        "\n",
        "#I understand (at a high level) what Jupyter notebooks are and how to read and\n",
        "#interact with them (or I have been in touch with the course instructor to ask for help)\n",
        "LEARNED_ABOUT_JUPYTER = False\n",
        "\n",
        "#I've created (or already have) a Google account and can access Google\n",
        "#Colaboratory under my own account\n",
        "ACCESS_COLABORATORY = False\n",
        "\n",
        "#I've created a GitHub account\n",
        "CREATED_GITHUB_ACCOUNT = False\n",
        "github_username = 'username'"
      ],
      "execution_count": null,
      "outputs": []
    },
    {
      "cell_type": "markdown",
      "metadata": {
        "id": "9sLVgJynY_WG",
        "colab_type": "text"
      },
      "source": [
        "# Part 2: Your first computer program!\n",
        "\n",
        "Let's learn about the `print` command.  This super useful function lets you display text.  A lot of the programming we'll do in this course will rely on using `print` to display the results of calculations.  We'll also use `print` to \"debug\" our code.  We'll learn more formally about what debugging means, but the general idea is that it's about diagnosing and correcting problems with your computer programs (code).  One simple debugging approach is to have your program periodically print out useful messages (using `print`) to help you understand what's happening.\n",
        "\n",
        "The most basic way to use the `print` function is to call `print(...)`, replacing \"`...`\" with the text you want displayed, enclosed in single (`'`) or double (`\"`) quotes, like this:\n",
        "\n",
        "```\n",
        "print('Hello, world!')\n",
        "```\n",
        "\n",
        "Modify the code in the next cell to print a greeting to yourself (e.g. \"Hello, Jeremy!\" or something to that effect, replacing \"Jeremy\" with your own name).  Check your work by pressing shift + return to run your code.  It should print out your greeting below your code.\n",
        "\n"
      ]
    },
    {
      "cell_type": "code",
      "metadata": {
        "id": "hi3PYzelZ9hX",
        "colab_type": "code",
        "colab": {
          "base_uri": "https://localhost:8080/",
          "height": 34
        },
        "outputId": "c89f47fe-2c5f-4e53-d4a9-661d395bff7b"
      },
      "source": [
        "print(...)"
      ],
      "execution_count": null,
      "outputs": [
        {
          "output_type": "stream",
          "text": [
            "Ellipsis\n"
          ],
          "name": "stdout"
        }
      ]
    },
    {
      "cell_type": "markdown",
      "metadata": {
        "id": "zkrKLHSLuMf3",
        "colab_type": "text"
      },
      "source": [
        "### Congrats, programmer!\n",
        "\n",
        "It may not seem like much happened, but that one line of code for printing your message is a complete and valid Python 3.x computer program.  We'll be writing substantially more complicated and interesting programs in this course, but you should pat yourself on the back for reaching your first programming milestone: writing your version of the famous [\"Hello, world!\" program](https://en.wikipedia.org/wiki/%22Hello,_World!%22_program) that has helped introduce nearly every modern programmer to the world of coding."
      ]
    },
    {
      "cell_type": "markdown",
      "metadata": {
        "id": "7EvafQZgbssH",
        "colab_type": "text"
      },
      "source": [
        "## Getting help\n",
        "\n",
        "To learn more about any Python command or function, you can type `?<function name>` into a code cell (relacing \"`<function name>`\" with the actual function name, e.g. `print`) and press shift + return to execute it.  Try getting help using this approach for the following functions: `print`, `input`, and `open`.  Click the `x` to close the help documentation once you're done scrolling through it.  If you're already familiar with reading [API documentation](https://en.wikipedia.org/wiki/Application_programming_interface), you may notice some interesting features of these functions.  For example, together `print`, `input`, and `open` constitute a basic but powerful set of functions that allow you to read and write to files-- including remotely (e.g., web pages)!  And don't worry if the documentation seems inscrutible right now.  As you learn more about Python programming you'll start to build up a sense of the contexts in which different parts of the documentation apply, and you'll also build up a vocabulary that will allow you to communicate (e.g., by reading and writing documentation asking questions, etc.) with other programmers.\n",
        "\n"
      ]
    },
    {
      "cell_type": "code",
      "metadata": {
        "id": "vYH1yIE2cXTm",
        "colab_type": "code",
        "colab": {}
      },
      "source": [
        "?print"
      ],
      "execution_count": null,
      "outputs": []
    },
    {
      "cell_type": "markdown",
      "metadata": {
        "id": "N5Q8W0nfI6LG",
        "colab_type": "text"
      },
      "source": [
        "Equivalently, you can also use the `help` function to print out the same documentation to the console:"
      ]
    },
    {
      "cell_type": "code",
      "metadata": {
        "id": "sYmvI9PiJBOs",
        "colab_type": "code",
        "colab": {
          "base_uri": "https://localhost:8080/",
          "height": 221
        },
        "outputId": "3c2653c7-2bd1-4986-c7ad-5fe3e40144dc"
      },
      "source": [
        "help(print)"
      ],
      "execution_count": null,
      "outputs": [
        {
          "output_type": "stream",
          "text": [
            "Help on built-in function print in module builtins:\n",
            "\n",
            "print(...)\n",
            "    print(value, ..., sep=' ', end='\\n', file=sys.stdout, flush=False)\n",
            "    \n",
            "    Prints the values to a stream, or to sys.stdout by default.\n",
            "    Optional keyword arguments:\n",
            "    file:  a file-like object (stream); defaults to the current sys.stdout.\n",
            "    sep:   string inserted between values, default a space.\n",
            "    end:   string appended after the last value, default a newline.\n",
            "    flush: whether to forcibly flush the stream.\n",
            "\n"
          ],
          "name": "stdout"
        }
      ]
    },
    {
      "cell_type": "markdown",
      "metadata": {
        "id": "ml1L-fqrcxPc",
        "colab_type": "text"
      },
      "source": [
        "Another good way to get help is to search for your problem (e.g. using [Google](https://www.google.com/search?rlz=1C5CHFA_enUS880US880&sxsrf=ACYBGNRa7KbFAoxT-f99XXLUFsFmuRYGCQ%3A1577735980290&ei=LFcKXuKxEbGyggetpa2oDQ&q=how+to+use+python+print&oq=how+to+use+python+print&gs_l=psy-ab.3..0l2j0i22i30l8.984103.986727..986862...1.2..0.126.2246.19j5......0....1..gws-wiz.......0i71j0i67j0i131j35i39j0i273j0i20i263.VxfClbIza58&ved=0ahUKEwji953FlN7mAhUxmeAKHa1SC9UQ4dUDCAs&uact=5)). [StackOverflow[(https://stackoverflow.com/) is also a great resource for finding sample code and more advanced use cases (e.g. [here](https://stackoverflow.com/questions/15286401/print-multiple-arguments-in-python)).  You can also post your own questions and/or answer other people's questions to participate in the coding community's ongoing conversations!\n",
        "\n",
        "Finally, if you've tried looking online and you're still stuck, take advantage of your classmates, teaching assistant, and course instructor.  We're all here to help!  Some frustration is totally normal as you're learning to code, and it's worth struggling to find an answer as long as you're making forward progress.  But if you're completely stuck solving a problem on your own, use *all* of your available resources, including asking for help."
      ]
    },
    {
      "cell_type": "markdown",
      "metadata": {
        "id": "aEwnCFKMbEp8",
        "colab_type": "text"
      },
      "source": [
        "# Part 3: Submit your assignment\n",
        "\n",
        "Once you've completed the tasks above and have finished going through the text, it's time to submit your assignment!\n",
        "\n",
        "First, make sure to save your notebook (`File` > `Save`).\n",
        "\n",
        "Next, click the `File` menu button (upper left) and select `Save a copy in GitHub...`.  A dialog box will pop up, asking you where to save the file.  You should save your copy of this notebook in your assignment's GitHub repository (i.e., something like `https://github.com/ContextLab/hello-world-<username>`, where \"`<username>`\" is replaced with your actual GitHub username).  Saving a copy of this notebook to your assignment's GitHub repository constitutes \"submitting\" the assignment.\n",
        "\n",
        "## Troubleshooting\n",
        "\n",
        "If you can't find your assignment's GitHub repository (i.e., the copy of the assignment repository tagged with your GitHub username) in the Repository drop-down menu within the save dialogue box, the most likely explanation is that you haven't given Colaboratory access to your private repositories.  Follow the [setup and submission instructions](https://github.com/ContextLab/psyc32-hello-world/blob/master/README.md) to double check that you've given Colaboratory access to your private GitHub repositories.\n",
        "\n",
        "If you're still stuck, you can post questions to our [course Gitter channel](https://gitter.im/cs-for-psych/community?utm_source=badge&utm_medium=badge&utm_campaign=pr-badge), making sure to provide enough detail for others to understand the issue you're having.  Specifically, describe in detail:\n",
        "- What you tried\n",
        "- What you expected would happen\n",
        "- What you observed happening instead\n",
        "- Any other information you think might be relevant or important\n",
        "\n",
        "## Important sanity check\n",
        "\n",
        "After you successfully submit your assignment, your web browser should open a new tab (or window) showing your where (on GitHub) your assignment notebook has been copied to.  Scroll through the notebook within that GitHub page and verify that your notebook is correct (i.e., that it contains the changes you made to the original assignment template file).\n",
        "\n",
        "## Updating your submission\n",
        "\n",
        "Prior to the assignment deadline you can re-submit your assignment as often as you would like.  This will update the copy of your assignment file in your assignment's repository.  Once the assignment deadline is reached, the copy of your assignment on GitHub will be submitted automatically (other than syncing your Colaboratory copy to GitHub, no additional action is required to submit this assignment).  Prior submitted versions of your assignment will become part of your assignment's submission history.\n",
        "\n",
        "### Re-starting your submission from scratch\n",
        "\n",
        "To restart your submission from scratch (from the original template notebook for this assignment), simply re-open the assignment's notebook in Colaboratory using [this link](https://colab.research.google.com/github/ContextLab/psyc32-hello-world/blob/master/hello_world_assignment.ipynb).\n",
        "\n",
        "### Modifying your prior submission(s)\n",
        "\n",
        "As an alternative to starting from scratch, you can also use your existing assignment as a jumping off point for further edits.  The easiest way to do this is to open your Google Colaboratory account ([link](https://colab.research.google.com/)) and select your assignment's notebook using the dialogue box.  It should be in the `Recent` tab.  Or, if you've been working on other files, you can navigate to your notebook within the `Google Drive` (all Colaboratory notebooks are stored on your Google Drive space) or `GitHub` tabs.  After saving your changes, simply follow the submission instructions again to re-copy your assignment to GitHub."
      ]
    }
  ]
}